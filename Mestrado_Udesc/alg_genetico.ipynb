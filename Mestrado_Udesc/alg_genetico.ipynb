{
 "cells": [
  {
   "cell_type": "markdown",
   "metadata": {},
   "source": [
    "## Inicialização e Variáveis"
   ]
  },
  {
   "cell_type": "code",
   "execution_count": 27,
   "metadata": {},
   "outputs": [],
   "source": [
    "import random"
   ]
  },
  {
   "cell_type": "code",
   "execution_count": 40,
   "metadata": {},
   "outputs": [
    {
     "name": "stdout",
     "output_type": "stream",
     "text": [
      "Modelo de Entrada:\n",
      "a b c d e f g h i ... j\n",
      "Digite seu modelo:\n",
      "1 1 1 1 1 1\n",
      "\n",
      "\n",
      "Modelo: [1, 1, 1, 1, 1, 1]\n",
      "\n",
      "\n"
     ]
    }
   ],
   "source": [
    "print('Modelo de Entrada:')\n",
    "print('a b c d e f g h i ... j')\n",
    "print('Digite seu modelo:')\n",
    "input_model = input()\n",
    "model = [int(i) for i in input_model.split()]\n",
    "print('\\n')\n",
    "print('Modelo: {}'.format(model))\n",
    "print('\\n')\n",
    "individual_size = len(model)\n",
    "population_size = 10\n",
    "parents = 2\n",
    "mutation_prob = 0.5"
   ]
  },
  {
   "cell_type": "markdown",
   "metadata": {},
   "source": [
    "## Criando a população"
   ]
  },
  {
   "cell_type": "code",
   "execution_count": 37,
   "metadata": {},
   "outputs": [],
   "source": [
    "def individual(min, max):\n",
    "    return[random.randint(min, max) for i in range(individual_size)]"
   ]
  },
  {
   "cell_type": "code",
   "execution_count": 38,
   "metadata": {},
   "outputs": [],
   "source": [
    "def create_population():\n",
    "    return[individual(0,1) for i in range(population_size)]"
   ]
  },
  {
   "cell_type": "markdown",
   "metadata": {},
   "source": [
    "## Função de Aptidão - Fitness"
   ]
  },
  {
   "cell_type": "code",
   "execution_count": 31,
   "metadata": {},
   "outputs": [],
   "source": [
    "def fitness(individual):\n",
    "    fitness = 0\n",
    "    for i in range(len(individual)):\n",
    "        if(individual[i] == model[i]):\n",
    "            fitness += 1\n",
    "    return fitness"
   ]
  },
  {
   "cell_type": "markdown",
   "metadata": {},
   "source": [
    "## Cruzamento - Crossover"
   ]
  },
  {
   "cell_type": "code",
   "execution_count": 32,
   "metadata": {},
   "outputs": [],
   "source": [
    "def selection_and_crossover(population):\n",
    "    scored = [(fitness(i), i) for i in population]\n",
    "    scored = [i[1] for i in sorted(scored)]\n",
    "    population = scored\n",
    "    \n",
    "    selected = scored[(len(scored) - parents):]\n",
    "    \n",
    "    for i in range(len(population) - parents):\n",
    "        point = random.randint(1, individual_size - 1)\n",
    "        parent = random.sample(selected, 2)\n",
    "        population[i][:point] = parent[0][:point]\n",
    "        population[i][point:] = parent[1][point:]\n",
    "    \n",
    "    return population"
   ]
  },
  {
   "cell_type": "markdown",
   "metadata": {},
   "source": [
    "##  Mutação"
   ]
  },
  {
   "cell_type": "code",
   "execution_count": 42,
   "metadata": {},
   "outputs": [],
   "source": [
    "def mutation(population):\n",
    "    for i in range(len(population) - parents):\n",
    "        if(random.random() <= mutation_prob):\n",
    "            point = random.randint(0, individual_size - 1)\n",
    "            new_value = random.randint(1, 9)\n",
    "            \n",
    "            while(new_value == population[i][point]):\n",
    "                new_value = random.randint(1,9)\n",
    "            population[i][point] = new_value\n",
    "    \n",
    "    return population"
   ]
  },
  {
   "cell_type": "code",
   "execution_count": 43,
   "metadata": {},
   "outputs": [
    {
     "name": "stdout",
     "output_type": "stream",
     "text": [
      "População Inicial: [[0, 0, 1, 0, 1, 0], [1, 0, 1, 1, 0, 1], [1, 0, 0, 0, 0, 0], [0, 0, 1, 1, 0, 0], [0, 1, 1, 0, 0, 0], [1, 0, 0, 1, 1, 1], [1, 0, 0, 0, 1, 0], [0, 1, 0, 1, 1, 1], [1, 0, 0, 0, 0, 0], [1, 0, 1, 1, 1, 0]]\n",
      "\n",
      "\n",
      "População Final: [[1, 1, 1, 1, 1, 1], [1, 1, 9, 1, 1, 1], [1, 1, 1, 1, 1, 1], [1, 1, 1, 1, 1, 1], [1, 1, 1, 1, 1, 1], [1, 1, 1, 1, 9, 1], [1, 1, 1, 1, 1, 9], [1, 1, 2, 1, 1, 1], [1, 1, 1, 1, 1, 1], [1, 1, 1, 1, 1, 1]]\n"
     ]
    }
   ],
   "source": [
    "population = create_population()\n",
    "print(\"População Inicial: {}\".format(population))\n",
    "print(\"\\n\")\n",
    "\n",
    "for i in range(100):\n",
    "    population = selection_and_crossover(population)\n",
    "    population = mutation(population)\n",
    "\n",
    "print(\"População Final: {}\".format(population))"
   ]
  },
  {
   "cell_type": "code",
   "execution_count": null,
   "metadata": {},
   "outputs": [],
   "source": []
  }
 ],
 "metadata": {
  "kernelspec": {
   "display_name": "Python 3",
   "language": "python",
   "name": "python3"
  },
  "language_info": {
   "codemirror_mode": {
    "name": "ipython",
    "version": 3
   },
   "file_extension": ".py",
   "mimetype": "text/x-python",
   "name": "python",
   "nbconvert_exporter": "python",
   "pygments_lexer": "ipython3",
   "version": "3.7.4"
  }
 },
 "nbformat": 4,
 "nbformat_minor": 2
}
