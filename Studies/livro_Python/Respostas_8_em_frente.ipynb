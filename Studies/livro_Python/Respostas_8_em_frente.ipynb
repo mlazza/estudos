{
 "cells": [
  {
   "cell_type": "markdown",
   "metadata": {},
   "source": [
    "## Respostas dos exercícios seguintes do livro \"Curso Intensivo de Python\", a partir do item 8.12"
   ]
  },
  {
   "cell_type": "code",
   "execution_count": 1,
   "metadata": {},
   "outputs": [
    {
     "name": "stdout",
     "output_type": "stream",
     "text": [
      "You choose the follow toppings: \n",
      "\n",
      "- cheese\n",
      "You choose the follow toppings: \n",
      "\n",
      "- cheese\n",
      "- meat\n",
      "- oregan\n",
      "You choose the follow toppings: \n",
      "\n",
      "- porch\n",
      "- meat\n",
      "- oregan\n",
      "- pepper\n"
     ]
    }
   ],
   "source": [
    "#8.12\n",
    "\n",
    "def make_sandwich(*toppings):\n",
    "    \"\"\"Getting the sandwich contents\"\"\"\n",
    "    print(\"You choose the follow toppings: \\n\")\n",
    "    for topping in toppings:\n",
    "        print('- ' + topping)\n",
    "\n",
    "make_sandwich('cheese')\n",
    "make_sandwich('cheese', 'meat', 'oregan')\n",
    "make_sandwich('porch', 'meat', 'oregan', 'pepper')"
   ]
  },
  {
   "cell_type": "code",
   "execution_count": 2,
   "metadata": {},
   "outputs": [
    {
     "name": "stdout",
     "output_type": "stream",
     "text": [
      "{'First Name': 'Léo', 'Last Name': 'Dante', 'location': 'Denver', 'field': 'Data Science', 'work': 'University'}\n"
     ]
    }
   ],
   "source": [
    "#8.13 - user_profile.py\n",
    "\n",
    "def build_profile(first, last, **user_info):\n",
    "    \"\"\"Build a dict with some info about a specific user\"\"\"\n",
    "    profile = {}\n",
    "    profile['First Name'] = first\n",
    "    profile['Last Name'] = last\n",
    "    for key, value in user_info.items():\n",
    "        profile[key] = value\n",
    "    return profile\n",
    "\n",
    "user_profile = build_profile ('Léo', 'Dante',\n",
    "                              location='Denver',\n",
    "                              field='Data Science',\n",
    "                              work='University')\n",
    "\n",
    "print(user_profile)"
   ]
  },
  {
   "cell_type": "code",
   "execution_count": 3,
   "metadata": {},
   "outputs": [
    {
     "data": {
      "text/plain": [
       "{'Manufacturer': 'Ford',\n",
       " 'Model': 'Mustang',\n",
       " 'color': 'yellow',\n",
       " 'optional': 'alarm',\n",
       " 'zerokm': 'yes'}"
      ]
     },
     "execution_count": 3,
     "metadata": {},
     "output_type": "execute_result"
    }
   ],
   "source": [
    "#8.14\n",
    "def make_car(manuf, model, **more_info):\n",
    "    \"\"\"Buil a dict with info about a car and return this\"\"\"\n",
    "    car = {}\n",
    "    car['Manufacturer'] = manuf\n",
    "    car['Model'] = model\n",
    "    for key, value in more_info.items():\n",
    "        car[key] = value\n",
    "    return car\n",
    "\n",
    "my_car = make_car('Ford', 'Mustang', color='yellow', optional='alarm', zerokm='yes')\n",
    "\n",
    "my_car"
   ]
  },
  {
   "cell_type": "code",
   "execution_count": 4,
   "metadata": {},
   "outputs": [
    {
     "name": "stdout",
     "output_type": "stream",
     "text": [
      "Printing model:dodecahedron\n",
      "Printing model:robot pendant\n",
      "Printing model:iphone case\n",
      "\n",
      "The following models have been printed: \n",
      "dodecahedron\n",
      "robot pendant\n",
      "iphone case\n"
     ]
    }
   ],
   "source": [
    "#8.15 Printing models - an example / importing functions and module\n",
    "\n",
    "from print_functions import *\n",
    "\n",
    "unprinted = ['iphone case', 'robot pendant', 'dodecahedron']\n",
    "completed = []\n",
    "\n",
    "print_models(unprinted, completed)\n",
    "show_completed_models(completed)\n",
    "\n"
   ]
  },
  {
   "cell_type": "code",
   "execution_count": 5,
   "metadata": {},
   "outputs": [
    {
     "name": "stdout",
     "output_type": "stream",
     "text": [
      "Which your birth year?1983\n",
      "You have 37 years old.\n"
     ]
    }
   ],
   "source": [
    "#8.16 Importing functions and modules\n",
    "import test_functions as tf\n",
    "\n",
    "tf.what_my_age()"
   ]
  },
  {
   "cell_type": "code",
   "execution_count": null,
   "metadata": {},
   "outputs": [],
   "source": [
    "#8.17 Stilyzing functions - PEP 8\n"
   ]
  }
 ],
 "metadata": {
  "kernelspec": {
   "display_name": "Python 3",
   "language": "python",
   "name": "python3"
  },
  "language_info": {
   "codemirror_mode": {
    "name": "ipython",
    "version": 3
   },
   "file_extension": ".py",
   "mimetype": "text/x-python",
   "name": "python",
   "nbconvert_exporter": "python",
   "pygments_lexer": "ipython3",
   "version": "3.7.4"
  }
 },
 "nbformat": 4,
 "nbformat_minor": 2
}
