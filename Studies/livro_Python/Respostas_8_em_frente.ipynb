{
 "cells": [
  {
   "cell_type": "markdown",
   "metadata": {},
   "source": [
    "## Respostas dos exercícios seguintes do livro \"Curso Intensivo de Python\", a partir do item 8.12"
   ]
  },
  {
   "cell_type": "code",
   "execution_count": 1,
   "metadata": {},
   "outputs": [
    {
     "name": "stdout",
     "output_type": "stream",
     "text": [
      "You choose the follow toppings: \n",
      "\n",
      "- cheese\n",
      "You choose the follow toppings: \n",
      "\n",
      "- cheese\n",
      "- meat\n",
      "- oregan\n",
      "You choose the follow toppings: \n",
      "\n",
      "- porch\n",
      "- meat\n",
      "- oregan\n",
      "- pepper\n"
     ]
    }
   ],
   "source": [
    "#8.12\n",
    "\n",
    "def make_sandwich(*toppings):\n",
    "    \"\"\"Getting the sandwich contents\"\"\"\n",
    "    print(\"You choose the follow toppings: \\n\")\n",
    "    for topping in toppings:\n",
    "        print('- ' + topping)\n",
    "\n",
    "make_sandwich('cheese')\n",
    "make_sandwich('cheese', 'meat', 'oregan')\n",
    "make_sandwich('porch', 'meat', 'oregan', 'pepper')"
   ]
  },
  {
   "cell_type": "code",
   "execution_count": 2,
   "metadata": {},
   "outputs": [
    {
     "name": "stdout",
     "output_type": "stream",
     "text": [
      "{'First Name': 'Léo', 'Last Name': 'Dante', 'location': 'Denver', 'field': 'Data Science', 'work': 'University'}\n"
     ]
    }
   ],
   "source": [
    "#8.13 - user_profile.py\n",
    "\n",
    "def build_profile(first, last, **user_info):\n",
    "    \"\"\"Build a dict with some info about a specific user\"\"\"\n",
    "    profile = {}\n",
    "    profile['First Name'] = first\n",
    "    profile['Last Name'] = last\n",
    "    for key, value in user_info.items():\n",
    "        profile[key] = value\n",
    "    return profile\n",
    "\n",
    "user_profile = build_profile ('Léo', 'Dante',\n",
    "                              location='Denver',\n",
    "                              field='Data Science',\n",
    "                              work='University')\n",
    "\n",
    "print(user_profile)"
   ]
  },
  {
   "cell_type": "code",
   "execution_count": 3,
   "metadata": {},
   "outputs": [
    {
     "data": {
      "text/plain": [
       "{'Manufacturer': 'Ford',\n",
       " 'Model': 'Mustang',\n",
       " 'color': 'yellow',\n",
       " 'optional': 'alarm',\n",
       " 'zerokm': 'yes'}"
      ]
     },
     "execution_count": 3,
     "metadata": {},
     "output_type": "execute_result"
    }
   ],
   "source": [
    "#8.14\n",
    "def make_car(manuf, model, **more_info):\n",
    "    \"\"\"Buil a dict with info about a car and return this\"\"\"\n",
    "    car = {}\n",
    "    car['Manufacturer'] = manuf\n",
    "    car['Model'] = model\n",
    "    for key, value in more_info.items():\n",
    "        car[key] = value\n",
    "    return car\n",
    "\n",
    "my_car = make_car('Ford', 'Mustang', color='yellow', optional='alarm', zerokm='yes')\n",
    "\n",
    "my_car"
   ]
  },
  {
   "cell_type": "code",
   "execution_count": 4,
   "metadata": {},
   "outputs": [
    {
     "name": "stdout",
     "output_type": "stream",
     "text": [
      "Printing model:dodecahedron\n",
      "Printing model:robot pendant\n",
      "Printing model:iphone case\n",
      "\n",
      "The following models have been printed: \n",
      "dodecahedron\n",
      "robot pendant\n",
      "iphone case\n"
     ]
    }
   ],
   "source": [
    "#8.15 Printing models - an example / importing functions and module\n",
    "\n",
    "from print_functions import *\n",
    "\n",
    "unprinted = ['iphone case', 'robot pendant', 'dodecahedron']\n",
    "completed = []\n",
    "\n",
    "print_models(unprinted, completed)\n",
    "show_completed_models(completed)\n",
    "\n"
   ]
  },
  {
   "cell_type": "code",
   "execution_count": 5,
   "metadata": {},
   "outputs": [
    {
     "name": "stdout",
     "output_type": "stream",
     "text": [
      "Which your birth year?1983\n",
      "You have 37 years old.\n"
     ]
    }
   ],
   "source": [
    "#8.16 Importing functions and modules\n",
    "import test_functions as tf\n",
    "\n",
    "tf.what_my_age()"
   ]
  },
  {
   "cell_type": "markdown",
   "metadata": {},
   "source": [
    "### CLASSES"
   ]
  },
  {
   "cell_type": "code",
   "execution_count": 12,
   "metadata": {},
   "outputs": [
    {
     "name": "stdout",
     "output_type": "stream",
     "text": [
      "My dog's name is Larry. And he has 2 years old.\n",
      "Larry is sitting now.\n",
      "Larry rolled over!\n"
     ]
    }
   ],
   "source": [
    "# Exemplo de classe\n",
    "class Dog():\n",
    "    '''Uma tentativa simples de modelar um cachorro'''\n",
    "    \n",
    "    def __init__(self, name, age):\n",
    "        '''Inicializa os atributos name e age'''\n",
    "        self.name = name\n",
    "        self.age = age\n",
    "        \n",
    "    def sit(self):\n",
    "        '''Simular o cachorro sentando'''\n",
    "        print(self.name.title() + ' is sitting now.')\n",
    "    \n",
    "    def roll_over(self):\n",
    "        '''Simular o cachorro rolando'''\n",
    "        print(self.name.title() + ' rolled over!')\n",
    "        \n",
    "mydog = Dog('Larry', 2)\n",
    "print(\"My dog's name is \" + mydog.name.title() + \". And he has \" + str(mydog.age) + \" years old.\" )\n",
    "mydog.sit()\n",
    "mydog.roll_over()"
   ]
  },
  {
   "cell_type": "code",
   "execution_count": 14,
   "metadata": {},
   "outputs": [
    {
     "name": "stdout",
     "output_type": "stream",
     "text": [
      "O nome do restaurante é Jocas Club e o seu estilo é Italian food\n",
      "O restaurante Jocas Club está aberto!\n"
     ]
    }
   ],
   "source": [
    "# 9.1 Restaurante: crie uma classe chamada Restaurant. O metodo init da classe deve armazenar dois atributos: \n",
    "# name e tipo_cozinha. Crie um metodo chamado describe_restaurant() que mostre estas duas informacoes , e um metodo de nome\n",
    "# open_restaurant() que exiba uma mensagem informando que o restaurante está aberto.\n",
    "\n",
    "class Restaurant():\n",
    "    '''Modelando um restaurante simples'''\n",
    "    \n",
    "    def __init__(self, name, cuisin_type):\n",
    "        '''Inicializa os atributos name and cuisin type'''\n",
    "        self.name = name\n",
    "        self.cuisin_type = cuisin_type\n",
    "    \n",
    "    def describe_restaurant(self):\n",
    "        '''Show the attributes'''\n",
    "        print('O nome do restaurante é ' + self.name + ' e o seu estilo é ' + self.cuisin_type)\n",
    "    \n",
    "    def open_restaurant(self):\n",
    "        '''Abrindo o restaurante'''\n",
    "        print('O restaurante ' + self.name + ' está aberto!')\n",
    "\n",
    "myrestaurant = Restaurant('Jocas Club', 'Italian food')\n",
    "myrestaurant.describe_restaurant()\n",
    "myrestaurant.open_restaurant()\n",
    "    "
   ]
  },
  {
   "cell_type": "code",
   "execution_count": 20,
   "metadata": {},
   "outputs": [
    {
     "name": "stdout",
     "output_type": "stream",
     "text": [
      "Nome: Marlon Lazzarotti\n",
      "Age: 37\n",
      "Profession: Data Scientist\n",
      "Hello Marlon. Have a nice day!\n",
      "-----\n",
      "Nome: Denis Pereira\n",
      "Age: 52\n",
      "Profession: Analyst\n",
      "Hello Denis. Have a nice day!\n"
     ]
    }
   ],
   "source": [
    "# 9.1 Users - Crie uma classe User. Dois atributos que são first and last name, e entao crie outros atributos normalmente\n",
    "# armazenados em um perfil de usuario. Escreva um metodo de descricao do usuario que apresente um resumo das informacoes\n",
    "# do usuario. Escreva outro metodo que mostreu uma saudacao personalizada ao usuario - greet_user()\n",
    "\n",
    "class User():\n",
    "    '''Modelando um usuário'''\n",
    "    \n",
    "    def __init__(self, first_name, last_name, age, profession):\n",
    "        '''Inicializa os atributos do usuario com nome, idade e profissao'''\n",
    "        self.first_name = first_name\n",
    "        self.last_name = last_name\n",
    "        self.age = age\n",
    "        self.profession = profession\n",
    "    \n",
    "    def describe_user(self):\n",
    "        '''Show the attributes'''\n",
    "        print('Nome: ' + self.first_name + ' ' + self.last_name)\n",
    "        print('Age: ' + str(self.age))\n",
    "        print('Profession: ' + self.profession)\n",
    "              \n",
    "    def greet_user(self):\n",
    "        '''Greeting the user'''\n",
    "        print('Hello ' + self.first_name + '. Have a nice day!')\n",
    "    \n",
    "    def arow(self):\n",
    "        print('-----')\n",
    "\n",
    "user1 = User('Marlon', 'Lazzarotti', 37, 'Data Scientist')\n",
    "user1.describe_user()\n",
    "user1.greet_user()\n",
    "user1.arow()\n",
    "user2 = User('Denis', 'Pereira', 52, 'Analyst')\n",
    "user2.describe_user()\n",
    "user2.greet_user()"
   ]
  },
  {
   "cell_type": "code",
   "execution_count": null,
   "metadata": {},
   "outputs": [],
   "source": []
  }
 ],
 "metadata": {
  "kernelspec": {
   "display_name": "Python 3",
   "language": "python",
   "name": "python3"
  },
  "language_info": {
   "codemirror_mode": {
    "name": "ipython",
    "version": 3
   },
   "file_extension": ".py",
   "mimetype": "text/x-python",
   "name": "python",
   "nbconvert_exporter": "python",
   "pygments_lexer": "ipython3",
   "version": "3.8.3"
  }
 },
 "nbformat": 4,
 "nbformat_minor": 2
}
